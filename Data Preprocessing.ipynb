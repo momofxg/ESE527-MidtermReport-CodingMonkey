{
 "cells": [
  {
   "cell_type": "code",
   "execution_count": 1,
   "metadata": {},
   "outputs": [],
   "source": [
    "import numpy as np\n",
    "import pandas as pd\n",
    "import matplotlib.pyplot as plt\n",
    "import seaborn as sns"
   ]
  },
  {
   "cell_type": "code",
   "execution_count": 2,
   "metadata": {},
   "outputs": [],
   "source": [
    "# read clean data\n",
    "df = pd.read_csv('cleaned_data.csv')"
   ]
  },
  {
   "cell_type": "code",
   "execution_count": 3,
   "metadata": {},
   "outputs": [],
   "source": [
    "# read netflix score dataset\n",
    "df_score = pd.read_csv('n_movies.csv')"
   ]
  },
  {
   "cell_type": "code",
   "execution_count": 4,
   "metadata": {},
   "outputs": [
    {
     "name": "stdout",
     "output_type": "stream",
     "text": [
      "<class 'pandas.core.frame.DataFrame'>\n",
      "RangeIndex: 9957 entries, 0 to 9956\n",
      "Data columns (total 9 columns):\n",
      " #   Column       Non-Null Count  Dtype  \n",
      "---  ------       --------------  -----  \n",
      " 0   title        9957 non-null   object \n",
      " 1   year         9430 non-null   object \n",
      " 2   certificate  6504 non-null   object \n",
      " 3   duration     7921 non-null   object \n",
      " 4   genre        9884 non-null   object \n",
      " 5   rating       8784 non-null   float64\n",
      " 6   description  9957 non-null   object \n",
      " 7   stars        9957 non-null   object \n",
      " 8   votes        8784 non-null   object \n",
      "dtypes: float64(1), object(8)\n",
      "memory usage: 700.2+ KB\n"
     ]
    },
    {
     "data": {
      "text/plain": [
       "title             0\n",
       "year            527\n",
       "certificate    3453\n",
       "duration       2036\n",
       "genre            73\n",
       "rating         1173\n",
       "description       0\n",
       "stars             0\n",
       "votes          1173\n",
       "dtype: int64"
      ]
     },
     "execution_count": 4,
     "metadata": {},
     "output_type": "execute_result"
    }
   ],
   "source": [
    "df_score.info()\n",
    "df_score.isnull().sum()"
   ]
  },
  {
   "cell_type": "code",
   "execution_count": 5,
   "metadata": {},
   "outputs": [
    {
     "data": {
      "text/plain": [
       "title          7912\n",
       "year            498\n",
       "certificate      20\n",
       "duration        291\n",
       "genre           569\n",
       "rating           79\n",
       "description    9433\n",
       "stars          8615\n",
       "votes          4862\n",
       "dtype: int64"
      ]
     },
     "execution_count": 5,
     "metadata": {},
     "output_type": "execute_result"
    }
   ],
   "source": [
    "df_score.nunique()\n",
    "#df.nunique()"
   ]
  },
  {
   "cell_type": "code",
   "execution_count": 6,
   "metadata": {
    "scrolled": true
   },
   "outputs": [
    {
     "name": "stdout",
     "output_type": "stream",
     "text": [
      "<class 'pandas.core.frame.DataFrame'>\n",
      "Int64Index: 6867 entries, 6339 to 2406\n",
      "Data columns (total 3 columns):\n",
      " #   Column  Non-Null Count  Dtype  \n",
      "---  ------  --------------  -----  \n",
      " 0   title   6867 non-null   object \n",
      " 1   score   6867 non-null   float64\n",
      " 2   votes   6867 non-null   object \n",
      "dtypes: float64(1), object(2)\n",
      "memory usage: 214.6+ KB\n"
     ]
    }
   ],
   "source": [
    "# delete duplicates and NaN values\n",
    "score = df_score.sort_values(by=['title','year', 'votes'],ascending=[True,False, False])\n",
    "score = score.drop_duplicates(subset=['title', 'year'])\n",
    "score = score.drop_duplicates(subset=['title'])\n",
    "score = score.dropna(subset=['rating'])\n",
    "score = score.drop(columns=['year','certificate','duration','genre','description','stars'])\n",
    "score = score.rename(columns={\"rating\": \"score\"})\n",
    "score.info()\n",
    "#score2 = score[score.duplicated(subset=['title'],keep=False)]"
   ]
  },
  {
   "cell_type": "code",
   "execution_count": 7,
   "metadata": {
    "scrolled": true
   },
   "outputs": [
    {
     "name": "stdout",
     "output_type": "stream",
     "text": [
      "<class 'pandas.core.frame.DataFrame'>\n",
      "Int64Index: 8794 entries, 0 to 8793\n",
      "Data columns (total 18 columns):\n",
      " #   Column        Non-Null Count  Dtype  \n",
      "---  ------        --------------  -----  \n",
      " 0   Unnamed: 0    8794 non-null   int64  \n",
      " 1   show_id       8794 non-null   object \n",
      " 2   type          8794 non-null   object \n",
      " 3   title         8794 non-null   object \n",
      " 4   director      8794 non-null   object \n",
      " 5   cast          8794 non-null   object \n",
      " 6   country       8794 non-null   object \n",
      " 7   date_added    8794 non-null   object \n",
      " 8   release_year  8794 non-null   int64  \n",
      " 9   rating        8794 non-null   object \n",
      " 10  duration      8794 non-null   object \n",
      " 11  listed_in     8794 non-null   object \n",
      " 12  description   8794 non-null   object \n",
      " 13  day_added     8794 non-null   int64  \n",
      " 14  month_added   8794 non-null   object \n",
      " 15  year_added    8794 non-null   int64  \n",
      " 16  score         3135 non-null   float64\n",
      " 17  votes         3135 non-null   object \n",
      "dtypes: float64(1), int64(4), object(13)\n",
      "memory usage: 1.3+ MB\n"
     ]
    }
   ],
   "source": [
    "# add Netflix score\n",
    "n_score = df.merge(score,on='title', how='left')\n",
    "n_score.isnull().sum()\n",
    "n_score.info()"
   ]
  },
  {
   "cell_type": "code",
   "execution_count": 8,
   "metadata": {},
   "outputs": [
    {
     "name": "stdout",
     "output_type": "stream",
     "text": [
      "<class 'pandas.core.frame.DataFrame'>\n",
      "Int64Index: 8794 entries, 0 to 8793\n",
      "Data columns (total 13 columns):\n",
      " #   Column        Non-Null Count  Dtype  \n",
      "---  ------        --------------  -----  \n",
      " 0   Unnamed: 0    8794 non-null   int64  \n",
      " 1   type          8794 non-null   object \n",
      " 2   title         8794 non-null   object \n",
      " 3   director      8794 non-null   object \n",
      " 4   cast          8794 non-null   object \n",
      " 5   country       8794 non-null   object \n",
      " 6   date_added    8794 non-null   object \n",
      " 7   release_year  8794 non-null   int64  \n",
      " 8   rating        8794 non-null   object \n",
      " 9   duration      8794 non-null   object \n",
      " 10  listed_in     8794 non-null   object \n",
      " 11  description   8794 non-null   object \n",
      " 12  score         5312 non-null   float64\n",
      "dtypes: float64(1), int64(2), object(10)\n",
      "memory usage: 961.8+ KB\n"
     ]
    }
   ],
   "source": [
    "# Add IMDb score\n",
    "imdb_score = pd.read_csv('IMDb_movies - Copy.csv')\n",
    "imdb_score = imdb_score.drop_duplicates(subset=['title'])\n",
    "imdb_score\n",
    "#imdb_score.info()\n",
    "n_score = n_score.merge(imdb_score,on='title', how='left')\n",
    "n_score.isnull().sum()\n",
    "n_score['score'] = n_score['score'].fillna(n_score['avg_vote'])\n",
    "#nnn_score = nn_score['score'].combine_first(nn_score['averageRating'])\n",
    "n_score = n_score.drop(columns=['show_id','day_added','month_added','year_added','votes_x','year','avg_vote','votes_y'])\n",
    "n_score.to_csv('cleaned_score.csv')\n",
    "n_score.info()"
   ]
  }
 ],
 "metadata": {
  "kernelspec": {
   "display_name": "Python 3",
   "language": "python",
   "name": "python3"
  },
  "language_info": {
   "codemirror_mode": {
    "name": "ipython",
    "version": 3
   },
   "file_extension": ".py",
   "mimetype": "text/x-python",
   "name": "python",
   "nbconvert_exporter": "python",
   "pygments_lexer": "ipython3",
   "version": "3.8.8"
  }
 },
 "nbformat": 4,
 "nbformat_minor": 4
}
