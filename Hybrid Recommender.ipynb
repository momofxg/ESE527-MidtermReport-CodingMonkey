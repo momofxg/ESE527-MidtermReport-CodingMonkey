{
 "cells": [
  {
   "cell_type": "code",
   "execution_count": 1,
   "id": "eb961e52",
   "metadata": {},
   "outputs": [],
   "source": [
    "import numpy as np \n",
    "import pandas as pd \n",
    "  \n",
    "%matplotlib inline\n",
    "import pandas as pd\n",
    "import numpy as np\n",
    "import matplotlib.pyplot as plt\n",
    "import seaborn as sns\n",
    "from scipy import stats\n",
    "from ast import literal_eval\n",
    "from sklearn.feature_extraction.text import TfidfVectorizer, CountVectorizer\n",
    "from sklearn.metrics.pairwise import linear_kernel, cosine_similarity\n",
    "from nltk.stem.snowball import SnowballStemmer\n",
    "from nltk.stem.wordnet import WordNetLemmatizer\n",
    "from nltk.corpus import wordnet\n",
    "from surprise import Reader, Dataset, SVD\n",
    "from surprise.model_selection import cross_validate\n",
    "\n",
    "pd.options.display.max_columns=None\n",
    "\n",
    "import warnings; warnings.simplefilter('ignore')"
   ]
  },
  {
   "cell_type": "code",
   "execution_count": 2,
   "id": "8a5937fd",
   "metadata": {},
   "outputs": [],
   "source": [
    "df_meta = pd. read_csv('cleaned_movie_dataset.csv')"
   ]
  },
  {
   "cell_type": "code",
   "execution_count": 3,
   "id": "443d83fe",
   "metadata": {},
   "outputs": [
    {
     "data": {
      "text/plain": [
       "(45463, 16)"
      ]
     },
     "execution_count": 3,
     "metadata": {},
     "output_type": "execute_result"
    }
   ],
   "source": [
    "df_meta.isnull().sum()\n",
    "df_meta.shape"
   ]
  },
  {
   "cell_type": "code",
   "execution_count": 4,
   "id": "4742454e",
   "metadata": {},
   "outputs": [],
   "source": [
    "credits = pd.read_csv('credits.csv')\n",
    "keywords = pd.read_csv('keywords.csv')"
   ]
  },
  {
   "cell_type": "code",
   "execution_count": 5,
   "id": "65132654",
   "metadata": {},
   "outputs": [],
   "source": [
    "keywords['id'] = keywords['id'].astype('int64')\n",
    "credits['id'] = credits['id'].astype('int64')\n",
    "df_meta = df_meta.merge(credits, on='id')\n",
    "df_meta = df_meta.merge(keywords, on='id')"
   ]
  },
  {
   "cell_type": "code",
   "execution_count": 6,
   "id": "1e8078a3",
   "metadata": {},
   "outputs": [],
   "source": [
    "links_small = pd.read_csv('links_small.csv')\n",
    "links_small = links_small[links_small['tmdbId'].notnull()]['tmdbId'].astype('int')"
   ]
  },
  {
   "cell_type": "code",
   "execution_count": 7,
   "id": "b2b0fe1c",
   "metadata": {},
   "outputs": [
    {
     "data": {
      "text/plain": [
       "(9219, 19)"
      ]
     },
     "execution_count": 7,
     "metadata": {},
     "output_type": "execute_result"
    }
   ],
   "source": [
    "smd = df_meta[df_meta['id'].isin(links_small)]\n",
    "smd.shape"
   ]
  },
  {
   "cell_type": "code",
   "execution_count": 8,
   "id": "69479190",
   "metadata": {},
   "outputs": [],
   "source": [
    "def get_director(x):\n",
    "    for i in x:\n",
    "        if i['job'] == 'Director':\n",
    "            return i['name']\n",
    "    return np.nan"
   ]
  },
  {
   "cell_type": "code",
   "execution_count": 9,
   "id": "890e3551",
   "metadata": {},
   "outputs": [],
   "source": [
    "smd['cast'] = smd['cast'].apply(literal_eval)\n",
    "smd['crew'] = smd['crew'].apply(literal_eval)\n",
    "smd['keywords'] = smd['keywords'].apply(literal_eval)\n",
    "smd['cast_size'] = smd['cast'].apply(lambda x: len(x))\n",
    "smd['crew_size'] = smd['crew'].apply(lambda x: len(x))"
   ]
  },
  {
   "cell_type": "code",
   "execution_count": 10,
   "id": "4e666635",
   "metadata": {},
   "outputs": [],
   "source": [
    "smd['director'] = smd['crew'].apply(get_director)"
   ]
  },
  {
   "cell_type": "code",
   "execution_count": 11,
   "id": "fc8541c8",
   "metadata": {},
   "outputs": [],
   "source": [
    "smd['cast'] = smd['cast'].apply(lambda x: [i['name'] for i in x] if isinstance(x, list) else [])\n",
    "smd['cast'] = smd['cast'].apply(lambda x: x[:4] if len(x) >=4 else x)\n",
    "smd['keywords'] = smd['keywords'].apply(lambda x: [i['name'] for i in x] if isinstance(x, list) else [])"
   ]
  },
  {
   "cell_type": "code",
   "execution_count": 12,
   "id": "b49ae2b2",
   "metadata": {},
   "outputs": [],
   "source": [
    "s = smd.apply(lambda x: pd.Series(x['keywords']),axis=1).stack().reset_index(level=1, drop=True)\n",
    "s.name = 'keyword'\n",
    "s = s.value_counts()\n",
    "s[:10]\n",
    "s = s[s > 1]"
   ]
  },
  {
   "cell_type": "code",
   "execution_count": 13,
   "id": "33330688",
   "metadata": {},
   "outputs": [
    {
     "data": {
      "text/plain": [
       "'sport'"
      ]
     },
     "execution_count": 13,
     "metadata": {},
     "output_type": "execute_result"
    }
   ],
   "source": [
    "stemmer = SnowballStemmer('english')\n",
    "stemmer.stem('sportingly')"
   ]
  },
  {
   "cell_type": "code",
   "execution_count": 14,
   "id": "4cd3d200",
   "metadata": {},
   "outputs": [],
   "source": [
    "def filter_keywords(x):\n",
    "    words = []\n",
    "    for i in x:\n",
    "        if i in s:\n",
    "            words.append(i)\n",
    "    return words"
   ]
  },
  {
   "cell_type": "code",
   "execution_count": 15,
   "id": "9cd372de",
   "metadata": {},
   "outputs": [],
   "source": [
    "smd['keywords'] = smd['keywords'].apply(filter_keywords)\n",
    "smd['keywords'] = smd['keywords'].apply(lambda x: [stemmer.stem(i) for i in x])\n",
    "smd['keywords'] = smd['keywords'].apply(lambda x: [str.lower(i.replace(\" \", \"\")) for i in x])"
   ]
  },
  {
   "cell_type": "code",
   "execution_count": 16,
   "id": "76bf6460",
   "metadata": {},
   "outputs": [],
   "source": [
    "smd['director'] = smd['director'].astype('str').apply(lambda x: str.lower(x.replace(\" \", \"\")))\n",
    "\n",
    "smd['cast'] = smd['cast'].apply(lambda x: [str.lower(i.replace(\" \", \"\")) for i in x])\n",
    "smd['director'] = smd['director'].apply(lambda x: [str.lower(i.replace(\" \", \"\")) for i in x])\n",
    "smd['genres'] = smd['genres'].apply(lambda x: [str.lower(i.replace(\" \", \"\")) for i in x])"
   ]
  },
  {
   "cell_type": "code",
   "execution_count": 17,
   "id": "f4dc987f",
   "metadata": {},
   "outputs": [],
   "source": [
    "smd['soup'] = smd['keywords'] + smd['cast'] + smd['director'] + smd['genres']\n",
    "smd['soup'] = smd['soup'].apply(lambda x: ' '.join(x))"
   ]
  },
  {
   "cell_type": "code",
   "execution_count": 18,
   "id": "06f1ea48",
   "metadata": {},
   "outputs": [],
   "source": [
    "count = CountVectorizer(analyzer='word',ngram_range=(1, 2),min_df=0, stop_words='english')\n",
    "count_matrix = count.fit_transform(smd['soup'])"
   ]
  },
  {
   "cell_type": "code",
   "execution_count": 19,
   "id": "0a8ae503",
   "metadata": {},
   "outputs": [],
   "source": [
    "cosine_sim = cosine_similarity(count_matrix, count_matrix)"
   ]
  },
  {
   "cell_type": "code",
   "execution_count": 20,
   "id": "5899235e",
   "metadata": {},
   "outputs": [],
   "source": [
    "smd = smd.reset_index()\n",
    "titles = smd['title']\n",
    "indices = pd.Series(smd.index, index=smd['title'])"
   ]
  },
  {
   "cell_type": "code",
   "execution_count": 21,
   "id": "662a7a75",
   "metadata": {},
   "outputs": [],
   "source": [
    "vote_averages = df_meta[df_meta['vote_average'].notnull()]['vote_average'].astype('int')\n",
    "C = vote_averages.mean()\n",
    "vote_counts = df_meta[df_meta['vote_count'].notnull()]['vote_count'].astype('int')\n",
    "m = vote_counts.quantile(0.96)"
   ]
  },
  {
   "cell_type": "code",
   "execution_count": 22,
   "id": "57e0d56f",
   "metadata": {},
   "outputs": [],
   "source": [
    "def weighted_rating(x):\n",
    "    v = x['vote_count']\n",
    "    R = x['vote_average']\n",
    "    return (v/(v+m) * R) + (m/(m+v) * C)"
   ]
  },
  {
   "cell_type": "code",
   "execution_count": 23,
   "id": "91ef3701",
   "metadata": {},
   "outputs": [],
   "source": [
    "def get_recommendations(title):\n",
    "    idx = indices[title]\n",
    "    sim_scores = list(enumerate(cosine_sim[idx]))\n",
    "    sim_scores = sorted(sim_scores, key=lambda x: x[1], reverse=True)\n",
    "    sim_scores = sim_scores[1:50]\n",
    "    movie_indices = [i[0] for i in sim_scores]\n",
    "    \n",
    "    movies = smd.iloc[movie_indices][['title', 'vote_count', 'vote_average', 'release_date']]\n",
    "    vote_counts = movies[movies['vote_count'].notnull()]['vote_count'].astype('int')\n",
    "    vote_averages = movies[movies['vote_average'].notnull()]['vote_average']\n",
    "    C = vote_averages.mean()\n",
    "    m = vote_counts.quantile(0.50)\n",
    "    qualified = movies[(movies['vote_count'] >= m) & (movies['vote_count'].notnull()) & (movies['vote_average'].notnull())& (movies['vote_average']>=6.0)]\n",
    "    qualified['vote_count'] = qualified['vote_count'].astype('int')\n",
    "    qualified['vote_average'] = qualified['vote_average']\n",
    "    qualified['wr'] = qualified.apply(weighted_rating, axis=1)\n",
    "    #qualified = qualified.sort_values('wr', ascending=False).head(10)\n",
    "    qualified = qualified.head(10)\n",
    "    return qualified"
   ]
  },
  {
   "cell_type": "code",
   "execution_count": 24,
   "id": "fa2c67fc",
   "metadata": {
    "scrolled": true
   },
   "outputs": [
    {
     "data": {
      "text/html": [
       "<div>\n",
       "<style scoped>\n",
       "    .dataframe tbody tr th:only-of-type {\n",
       "        vertical-align: middle;\n",
       "    }\n",
       "\n",
       "    .dataframe tbody tr th {\n",
       "        vertical-align: top;\n",
       "    }\n",
       "\n",
       "    .dataframe thead th {\n",
       "        text-align: right;\n",
       "    }\n",
       "</style>\n",
       "<table border=\"1\" class=\"dataframe\">\n",
       "  <thead>\n",
       "    <tr style=\"text-align: right;\">\n",
       "      <th></th>\n",
       "      <th>title</th>\n",
       "      <th>vote_count</th>\n",
       "      <th>vote_average</th>\n",
       "      <th>release_date</th>\n",
       "      <th>wr</th>\n",
       "    </tr>\n",
       "  </thead>\n",
       "  <tbody>\n",
       "    <tr>\n",
       "      <th>8031</th>\n",
       "      <td>The Dark Knight Rises</td>\n",
       "      <td>9263</td>\n",
       "      <td>7.6</td>\n",
       "      <td>2012-07-16</td>\n",
       "      <td>7.464025</td>\n",
       "    </tr>\n",
       "    <tr>\n",
       "      <th>6218</th>\n",
       "      <td>Batman Begins</td>\n",
       "      <td>7511</td>\n",
       "      <td>7.5</td>\n",
       "      <td>2005-06-10</td>\n",
       "      <td>7.341538</td>\n",
       "    </tr>\n",
       "    <tr>\n",
       "      <th>8419</th>\n",
       "      <td>Man of Steel</td>\n",
       "      <td>6462</td>\n",
       "      <td>6.5</td>\n",
       "      <td>2013-06-12</td>\n",
       "      <td>6.398421</td>\n",
       "    </tr>\n",
       "    <tr>\n",
       "      <th>8872</th>\n",
       "      <td>Captain America: Civil War</td>\n",
       "      <td>7462</td>\n",
       "      <td>7.1</td>\n",
       "      <td>2016-04-27</td>\n",
       "      <td>6.968772</td>\n",
       "    </tr>\n",
       "    <tr>\n",
       "      <th>3049</th>\n",
       "      <td>X-Men</td>\n",
       "      <td>4172</td>\n",
       "      <td>6.8</td>\n",
       "      <td>2000-07-13</td>\n",
       "      <td>6.613487</td>\n",
       "    </tr>\n",
       "    <tr>\n",
       "      <th>4635</th>\n",
       "      <td>X2</td>\n",
       "      <td>3572</td>\n",
       "      <td>6.8</td>\n",
       "      <td>2003-04-24</td>\n",
       "      <td>6.586443</td>\n",
       "    </tr>\n",
       "    <tr>\n",
       "      <th>7583</th>\n",
       "      <td>Kick-Ass</td>\n",
       "      <td>4747</td>\n",
       "      <td>7.1</td>\n",
       "      <td>2010-03-22</td>\n",
       "      <td>6.901713</td>\n",
       "    </tr>\n",
       "    <tr>\n",
       "      <th>7600</th>\n",
       "      <td>Iron Man 2</td>\n",
       "      <td>6969</td>\n",
       "      <td>6.6</td>\n",
       "      <td>2010-04-28</td>\n",
       "      <td>6.497744</td>\n",
       "    </tr>\n",
       "    <tr>\n",
       "      <th>8869</th>\n",
       "      <td>Ant-Man</td>\n",
       "      <td>6029</td>\n",
       "      <td>7.0</td>\n",
       "      <td>2015-07-14</td>\n",
       "      <td>6.848840</td>\n",
       "    </tr>\n",
       "    <tr>\n",
       "      <th>8871</th>\n",
       "      <td>Deadpool</td>\n",
       "      <td>11444</td>\n",
       "      <td>7.4</td>\n",
       "      <td>2016-02-09</td>\n",
       "      <td>7.298143</td>\n",
       "    </tr>\n",
       "  </tbody>\n",
       "</table>\n",
       "</div>"
      ],
      "text/plain": [
       "                           title  vote_count  vote_average release_date  \\\n",
       "8031       The Dark Knight Rises        9263           7.6   2012-07-16   \n",
       "6218               Batman Begins        7511           7.5   2005-06-10   \n",
       "8419                Man of Steel        6462           6.5   2013-06-12   \n",
       "8872  Captain America: Civil War        7462           7.1   2016-04-27   \n",
       "3049                       X-Men        4172           6.8   2000-07-13   \n",
       "4635                          X2        3572           6.8   2003-04-24   \n",
       "7583                    Kick-Ass        4747           7.1   2010-03-22   \n",
       "7600                  Iron Man 2        6969           6.6   2010-04-28   \n",
       "8869                     Ant-Man        6029           7.0   2015-07-14   \n",
       "8871                    Deadpool       11444           7.4   2016-02-09   \n",
       "\n",
       "            wr  \n",
       "8031  7.464025  \n",
       "6218  7.341538  \n",
       "8419  6.398421  \n",
       "8872  6.968772  \n",
       "3049  6.613487  \n",
       "4635  6.586443  \n",
       "7583  6.901713  \n",
       "7600  6.497744  \n",
       "8869  6.848840  \n",
       "8871  7.298143  "
      ]
     },
     "execution_count": 24,
     "metadata": {},
     "output_type": "execute_result"
    }
   ],
   "source": [
    "get_recommendations('The Dark Knight')"
   ]
  },
  {
   "cell_type": "code",
   "execution_count": null,
   "id": "bf4e3bfc",
   "metadata": {},
   "outputs": [],
   "source": []
  },
  {
   "cell_type": "code",
   "execution_count": null,
   "id": "e57a6bb7",
   "metadata": {},
   "outputs": [],
   "source": []
  },
  {
   "cell_type": "code",
   "execution_count": 25,
   "id": "28b0a450",
   "metadata": {},
   "outputs": [],
   "source": [
    "df_ratings_s = pd.read_csv('ratings_small.csv')\n",
    "reader = Reader()"
   ]
  },
  {
   "cell_type": "code",
   "execution_count": 26,
   "id": "ffa98f3c",
   "metadata": {},
   "outputs": [
    {
     "data": {
      "text/plain": [
       "{'test_rmse': array([0.889684  , 0.89491355, 0.89517899, 0.89260228, 0.90645778]),\n",
       " 'test_mae': array([0.68601021, 0.69165664, 0.69196055, 0.68535028, 0.69483995]),\n",
       " 'fit_time': (0.9471724033355713,\n",
       "  1.0054097175598145,\n",
       "  1.0185613632202148,\n",
       "  1.0104196071624756,\n",
       "  0.9558944702148438),\n",
       " 'test_time': (0.2684812545776367,\n",
       "  0.12298011779785156,\n",
       "  0.12994790077209473,\n",
       "  0.1409778594970703,\n",
       "  0.12109971046447754)}"
      ]
     },
     "execution_count": 26,
     "metadata": {},
     "output_type": "execute_result"
    }
   ],
   "source": [
    "data_svd = Dataset.load_from_df(df_ratings_s[['userId', 'movieId', 'rating']], reader)\n",
    "svd = SVD()\n",
    "cross_validate(svd, data_svd, measures=['RMSE', 'MAE'],cv=5)"
   ]
  },
  {
   "cell_type": "code",
   "execution_count": 27,
   "id": "d6e46da7",
   "metadata": {},
   "outputs": [
    {
     "data": {
      "text/plain": [
       "<surprise.prediction_algorithms.matrix_factorization.SVD at 0x1b6eaf4f160>"
      ]
     },
     "execution_count": 27,
     "metadata": {},
     "output_type": "execute_result"
    }
   ],
   "source": [
    "trainset = data_svd.build_full_trainset()\n",
    "svd.fit(trainset)"
   ]
  },
  {
   "cell_type": "code",
   "execution_count": 28,
   "id": "682909e5",
   "metadata": {},
   "outputs": [
    {
     "data": {
      "text/html": [
       "<div>\n",
       "<style scoped>\n",
       "    .dataframe tbody tr th:only-of-type {\n",
       "        vertical-align: middle;\n",
       "    }\n",
       "\n",
       "    .dataframe tbody tr th {\n",
       "        vertical-align: top;\n",
       "    }\n",
       "\n",
       "    .dataframe thead th {\n",
       "        text-align: right;\n",
       "    }\n",
       "</style>\n",
       "<table border=\"1\" class=\"dataframe\">\n",
       "  <thead>\n",
       "    <tr style=\"text-align: right;\">\n",
       "      <th></th>\n",
       "      <th>userId</th>\n",
       "      <th>movieId</th>\n",
       "      <th>rating</th>\n",
       "      <th>original_title</th>\n",
       "    </tr>\n",
       "  </thead>\n",
       "  <tbody>\n",
       "    <tr>\n",
       "      <th>0</th>\n",
       "      <td>1</td>\n",
       "      <td>1371</td>\n",
       "      <td>2.5</td>\n",
       "      <td>Rocky III</td>\n",
       "    </tr>\n",
       "    <tr>\n",
       "      <th>93</th>\n",
       "      <td>1</td>\n",
       "      <td>2105</td>\n",
       "      <td>4.0</td>\n",
       "      <td>American Pie</td>\n",
       "    </tr>\n",
       "    <tr>\n",
       "      <th>140</th>\n",
       "      <td>1</td>\n",
       "      <td>2193</td>\n",
       "      <td>2.0</td>\n",
       "      <td>My Tutor</td>\n",
       "    </tr>\n",
       "    <tr>\n",
       "      <th>47</th>\n",
       "      <td>1</td>\n",
       "      <td>1405</td>\n",
       "      <td>1.0</td>\n",
       "      <td>Greed</td>\n",
       "    </tr>\n",
       "    <tr>\n",
       "      <th>182</th>\n",
       "      <td>1</td>\n",
       "      <td>2294</td>\n",
       "      <td>2.0</td>\n",
       "      <td>Jay and Silent Bob Strike Back</td>\n",
       "    </tr>\n",
       "  </tbody>\n",
       "</table>\n",
       "</div>"
      ],
      "text/plain": [
       "     userId  movieId  rating                  original_title\n",
       "0         1     1371     2.5                       Rocky III\n",
       "93        1     2105     4.0                    American Pie\n",
       "140       1     2193     2.0                        My Tutor\n",
       "47        1     1405     1.0                           Greed\n",
       "182       1     2294     2.0  Jay and Silent Bob Strike Back"
      ]
     },
     "execution_count": 28,
     "metadata": {},
     "output_type": "execute_result"
    }
   ],
   "source": [
    "user_rating=pd.merge(df_ratings_s,df_meta,left_on='movieId',right_on='id',how='inner')\n",
    "user_ratings_final=user_rating[['userId', 'movieId', 'rating','original_title']]\n",
    "user_ratings=user_ratings_final.sort_values(by='userId')\n",
    "user_ratings.head()"
   ]
  },
  {
   "cell_type": "code",
   "execution_count": 29,
   "id": "cf48dc22",
   "metadata": {},
   "outputs": [],
   "source": [
    "#user_ratings[user_ratings['original_title'] == 'My Tutor']"
   ]
  },
  {
   "cell_type": "code",
   "execution_count": 30,
   "id": "51ddd628",
   "metadata": {},
   "outputs": [
    {
     "data": {
      "text/html": [
       "<div>\n",
       "<style scoped>\n",
       "    .dataframe tbody tr th:only-of-type {\n",
       "        vertical-align: middle;\n",
       "    }\n",
       "\n",
       "    .dataframe tbody tr th {\n",
       "        vertical-align: top;\n",
       "    }\n",
       "\n",
       "    .dataframe thead th {\n",
       "        text-align: right;\n",
       "    }\n",
       "</style>\n",
       "<table border=\"1\" class=\"dataframe\">\n",
       "  <thead>\n",
       "    <tr style=\"text-align: right;\">\n",
       "      <th></th>\n",
       "      <th>original_title</th>\n",
       "      <th>id</th>\n",
       "    </tr>\n",
       "  </thead>\n",
       "  <tbody>\n",
       "    <tr>\n",
       "      <th>21475</th>\n",
       "      <td>The Conjuring</td>\n",
       "      <td>138843</td>\n",
       "    </tr>\n",
       "  </tbody>\n",
       "</table>\n",
       "</div>"
      ],
      "text/plain": [
       "      original_title      id\n",
       "21475  The Conjuring  138843"
      ]
     },
     "execution_count": 30,
     "metadata": {},
     "output_type": "execute_result"
    }
   ],
   "source": [
    "movie1=df_meta['original_title']=='The Conjuring'\n",
    "df_meta[movie1][['original_title','id']]"
   ]
  },
  {
   "cell_type": "code",
   "execution_count": 31,
   "id": "986ea149",
   "metadata": {},
   "outputs": [
    {
     "data": {
      "text/plain": [
       "Prediction(uid=654, iid=2193, r_ui=4, est=3.6923680853371823, details={'was_impossible': False})"
      ]
     },
     "execution_count": 31,
     "metadata": {},
     "output_type": "execute_result"
    }
   ],
   "source": [
    "svd.predict(654, 2193,4)"
   ]
  },
  {
   "cell_type": "code",
   "execution_count": 32,
   "id": "20664e17",
   "metadata": {},
   "outputs": [
    {
     "data": {
      "text/plain": [
       "3.6923680853371823"
      ]
     },
     "execution_count": 32,
     "metadata": {},
     "output_type": "execute_result"
    }
   ],
   "source": [
    "svd.predict(654, 2193).est"
   ]
  },
  {
   "cell_type": "code",
   "execution_count": 33,
   "id": "891e66fc",
   "metadata": {},
   "outputs": [],
   "source": [
    "def convert_int(x):\n",
    "    try:\n",
    "        return int(x)\n",
    "    except:\n",
    "        return np.nan"
   ]
  },
  {
   "cell_type": "code",
   "execution_count": 34,
   "id": "0642c175",
   "metadata": {},
   "outputs": [],
   "source": [
    "id_map = pd.read_csv('links_small.csv')[['movieId', 'tmdbId']]\n",
    "id_map['tmdbId'] = id_map['tmdbId'].apply(convert_int)\n",
    "id_map.columns = ['movieId', 'id']\n",
    "id_map = id_map.merge(smd[['title', 'id']], on='id').set_index('title')"
   ]
  },
  {
   "cell_type": "code",
   "execution_count": 35,
   "id": "d1c84de0",
   "metadata": {},
   "outputs": [],
   "source": [
    "indices_map = id_map.set_index('id')"
   ]
  },
  {
   "cell_type": "code",
   "execution_count": 36,
   "id": "26f51eba",
   "metadata": {},
   "outputs": [],
   "source": [
    "def recommend_my_movie(userId, title):\n",
    "    idx = indices[title]\n",
    "    tmdbId = id_map.loc[title]['id']\n",
    "    movie_id = id_map.loc[title]['movieId']\n",
    "    sim_scores = list(enumerate(cosine_sim[int(idx)]))\n",
    "    sim_scores = sorted(sim_scores, key=lambda x: x[1], reverse=True)\n",
    "    sim_scores = sim_scores[1:50]\n",
    "    movie_indices = [i[0] for i in sim_scores]\n",
    "    movies = smd.iloc[movie_indices][['title', 'vote_count', 'vote_average', 'release_date','id']]\n",
    "    movies['est_rating'] = movies['id'].apply(lambda x: svd.predict(userId, indices_map.loc[x]['movieId']).est)\n",
    "    movies['est_rating'] = movies['est_rating'].apply(lambda x: x*2)\n",
    "    movies['vote_count'] = movies['vote_count'].astype('int')\n",
    "    movies=movies.drop(columns=['id'])\n",
    "    movies = movies.sort_values('est_rating', ascending=False)\n",
    "    return movies.head(10)"
   ]
  },
  {
   "cell_type": "code",
   "execution_count": 37,
   "id": "1e9ac6b2",
   "metadata": {},
   "outputs": [
    {
     "data": {
      "text/html": [
       "<div>\n",
       "<style scoped>\n",
       "    .dataframe tbody tr th:only-of-type {\n",
       "        vertical-align: middle;\n",
       "    }\n",
       "\n",
       "    .dataframe tbody tr th {\n",
       "        vertical-align: top;\n",
       "    }\n",
       "\n",
       "    .dataframe thead th {\n",
       "        text-align: right;\n",
       "    }\n",
       "</style>\n",
       "<table border=\"1\" class=\"dataframe\">\n",
       "  <thead>\n",
       "    <tr style=\"text-align: right;\">\n",
       "      <th></th>\n",
       "      <th>title</th>\n",
       "      <th>vote_count</th>\n",
       "      <th>vote_average</th>\n",
       "      <th>release_date</th>\n",
       "      <th>est_rating</th>\n",
       "    </tr>\n",
       "  </thead>\n",
       "  <tbody>\n",
       "    <tr>\n",
       "      <th>7969</th>\n",
       "      <td>The Avengers</td>\n",
       "      <td>12000</td>\n",
       "      <td>7.4</td>\n",
       "      <td>2012-04-25</td>\n",
       "      <td>8.050004</td>\n",
       "    </tr>\n",
       "    <tr>\n",
       "      <th>6218</th>\n",
       "      <td>Batman Begins</td>\n",
       "      <td>7511</td>\n",
       "      <td>7.5</td>\n",
       "      <td>2005-06-10</td>\n",
       "      <td>7.921492</td>\n",
       "    </tr>\n",
       "    <tr>\n",
       "      <th>6623</th>\n",
       "      <td>The Prestige</td>\n",
       "      <td>4510</td>\n",
       "      <td>8.0</td>\n",
       "      <td>2006-10-19</td>\n",
       "      <td>7.913056</td>\n",
       "    </tr>\n",
       "    <tr>\n",
       "      <th>7009</th>\n",
       "      <td>Iron Man</td>\n",
       "      <td>8951</td>\n",
       "      <td>7.4</td>\n",
       "      <td>2008-04-30</td>\n",
       "      <td>7.885157</td>\n",
       "    </tr>\n",
       "    <tr>\n",
       "      <th>8031</th>\n",
       "      <td>The Dark Knight Rises</td>\n",
       "      <td>9263</td>\n",
       "      <td>7.6</td>\n",
       "      <td>2012-07-16</td>\n",
       "      <td>7.781399</td>\n",
       "    </tr>\n",
       "    <tr>\n",
       "      <th>2599</th>\n",
       "      <td>Batman: Mask of the Phantasm</td>\n",
       "      <td>218</td>\n",
       "      <td>7.4</td>\n",
       "      <td>1993-12-25</td>\n",
       "      <td>7.737676</td>\n",
       "    </tr>\n",
       "    <tr>\n",
       "      <th>7889</th>\n",
       "      <td>X-Men: First Class</td>\n",
       "      <td>5252</td>\n",
       "      <td>7.1</td>\n",
       "      <td>2011-05-24</td>\n",
       "      <td>7.686093</td>\n",
       "    </tr>\n",
       "    <tr>\n",
       "      <th>7583</th>\n",
       "      <td>Kick-Ass</td>\n",
       "      <td>4747</td>\n",
       "      <td>7.1</td>\n",
       "      <td>2010-03-22</td>\n",
       "      <td>7.596877</td>\n",
       "    </tr>\n",
       "    <tr>\n",
       "      <th>8869</th>\n",
       "      <td>Ant-Man</td>\n",
       "      <td>6029</td>\n",
       "      <td>7.0</td>\n",
       "      <td>2015-07-14</td>\n",
       "      <td>7.533808</td>\n",
       "    </tr>\n",
       "    <tr>\n",
       "      <th>8868</th>\n",
       "      <td>Avengers: Age of Ultron</td>\n",
       "      <td>6908</td>\n",
       "      <td>7.3</td>\n",
       "      <td>2015-04-22</td>\n",
       "      <td>7.467637</td>\n",
       "    </tr>\n",
       "  </tbody>\n",
       "</table>\n",
       "</div>"
      ],
      "text/plain": [
       "                             title  vote_count  vote_average release_date  \\\n",
       "7969                  The Avengers       12000           7.4   2012-04-25   \n",
       "6218                 Batman Begins        7511           7.5   2005-06-10   \n",
       "6623                  The Prestige        4510           8.0   2006-10-19   \n",
       "7009                      Iron Man        8951           7.4   2008-04-30   \n",
       "8031         The Dark Knight Rises        9263           7.6   2012-07-16   \n",
       "2599  Batman: Mask of the Phantasm         218           7.4   1993-12-25   \n",
       "7889            X-Men: First Class        5252           7.1   2011-05-24   \n",
       "7583                      Kick-Ass        4747           7.1   2010-03-22   \n",
       "8869                       Ant-Man        6029           7.0   2015-07-14   \n",
       "8868       Avengers: Age of Ultron        6908           7.3   2015-04-22   \n",
       "\n",
       "      est_rating  \n",
       "7969    8.050004  \n",
       "6218    7.921492  \n",
       "6623    7.913056  \n",
       "7009    7.885157  \n",
       "8031    7.781399  \n",
       "2599    7.737676  \n",
       "7889    7.686093  \n",
       "7583    7.596877  \n",
       "8869    7.533808  \n",
       "8868    7.467637  "
      ]
     },
     "execution_count": 37,
     "metadata": {},
     "output_type": "execute_result"
    }
   ],
   "source": [
    "recommend_my_movie(27, \"The Dark Knight\")"
   ]
  },
  {
   "cell_type": "code",
   "execution_count": null,
   "id": "c010eaad",
   "metadata": {},
   "outputs": [],
   "source": []
  }
 ],
 "metadata": {
  "kernelspec": {
   "display_name": "Python 3 (ipykernel)",
   "language": "python",
   "name": "python3"
  },
  "language_info": {
   "codemirror_mode": {
    "name": "ipython",
    "version": 3
   },
   "file_extension": ".py",
   "mimetype": "text/x-python",
   "name": "python",
   "nbconvert_exporter": "python",
   "pygments_lexer": "ipython3",
   "version": "3.8.16"
  }
 },
 "nbformat": 4,
 "nbformat_minor": 5
}
